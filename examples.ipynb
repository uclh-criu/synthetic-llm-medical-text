{
 "cells": [
  {
   "cell_type": "markdown",
   "id": "bbd1bf57",
   "metadata": {},
   "source": [
    "Imports"
   ]
  },
  {
   "cell_type": "code",
   "execution_count": null,
   "id": "c0698792",
   "metadata": {},
   "outputs": [],
   "source": [
    "import pandas as pd\n",
    "from datetime import date\n",
    "\n",
    "from generate_note import generate_note, generate_batch\n",
    "from enhance_prompt import analyze_data, enhance_prompt_with_stats, add_markup_instructions"
   ]
  },
  {
   "cell_type": "markdown",
   "id": "4e9c3eea",
   "metadata": {},
   "source": [
    "Basic Note Example"
   ]
  },
  {
   "cell_type": "code",
   "execution_count": null,
   "id": "0d5366c2",
   "metadata": {},
   "outputs": [],
   "source": [
    "# Simplest possible case - just prompt to text\n",
    "prompt = \"\"\"Generate a clinical note about a patient with diabetes. \n",
    "Include their symptoms, current medications, and treatment plan.\"\"\"\n",
    "\n",
    "note = generate_note(prompt)\n",
    "print(note)"
   ]
  },
  {
   "cell_type": "markdown",
   "id": "6a5ce7e2",
   "metadata": {},
   "source": [
    "EDA-Enhanced Note Example"
   ]
  },
  {
   "cell_type": "code",
   "execution_count": null,
   "id": "71345604",
   "metadata": {},
   "outputs": [],
   "source": [
    "# Load some example data\n",
    "df = pd.read_csv(\"data.csv\")"
   ]
  },
  {
   "cell_type": "code",
   "execution_count": null,
   "id": "06b50a56",
   "metadata": {},
   "outputs": [],
   "source": [
    "# Get statistics from real data\n",
    "stats = analyze_data(\n",
    "    df,\n",
    "    text_col='note_text',\n",
    "    analysis_types=['basic', 'vocabulary']\n",
    ")\n",
    "\n",
    "stats"
   ]
  },
  {
   "cell_type": "code",
   "execution_count": null,
   "id": "11cc20bb",
   "metadata": {},
   "outputs": [],
   "source": [
    "# Base prompt\n",
    "prompt = \"\"\"Generate a clinical note about a patient with diabetes.\n",
    "Include their symptoms, current medications, and treatment plan.\"\"\""
   ]
  },
  {
   "cell_type": "code",
   "execution_count": null,
   "id": "0fd03952",
   "metadata": {},
   "outputs": [],
   "source": [
    "# Create prompt with statistical guidance\n",
    "enhanced_prompt = enhance_prompt_with_stats(prompt, stats)\n",
    "print(enhanced_prompt)"
   ]
  },
  {
   "cell_type": "code",
   "execution_count": null,
   "id": "74351e74",
   "metadata": {},
   "outputs": [],
   "source": [
    "note = generate_note(enhanced_prompt)\n",
    "print(note)"
   ]
  },
  {
   "cell_type": "markdown",
   "id": "bf3ef2dc",
   "metadata": {},
   "source": [
    "Entity Marking Example"
   ]
  },
  {
   "cell_type": "code",
   "execution_count": null,
   "id": "86a540b8",
   "metadata": {},
   "outputs": [],
   "source": [
    "# Base prompt\n",
    "prompt = \"\"\"Generate a clinical note about a patient with diabetes.\n",
    "Include their symptoms, current medications, and treatment plan.\"\"\""
   ]
  },
  {
   "cell_type": "code",
   "execution_count": null,
   "id": "a03efbbe",
   "metadata": {},
   "outputs": [],
   "source": [
    "# Medication marking example\n",
    "prompts = add_relation_markup_instructions(\n",
    "    prompt=prompt,\n",
    "    entity_type=\"medication\"\n",
    ")\n",
    "\n",
    "prompts"
   ]
  },
  {
   "cell_type": "code",
   "execution_count": null,
   "id": "096d5419",
   "metadata": {},
   "outputs": [],
   "source": [
    "#Marked note with medications\n",
    "marked_note = generate_note(\n",
    "    prompt=prompts['user_prompt'],\n",
    "    system_prompt=prompts['system_prompt']\n",
    ")\n",
    "\n",
    "print(marked_note)"
   ]
  },
  {
   "cell_type": "code",
   "execution_count": null,
   "id": "fe8b7268",
   "metadata": {},
   "outputs": [],
   "source": [
    "# 2. Entities with relationships (medications that interact)\n",
    "prompts = add_relation_markup_instructions(\n",
    "    prompt=\"Generate a clinical note about a patient with multiple medications. Include any relevant drug interactions.\",\n",
    "    entity_type=\"medication\",\n",
    "    relation_name=\"interacts with\"\n",
    ")\n",
    "\n",
    "note = generate_note(\n",
    "    prompt=prompts['user_prompt'],\n",
    "    system_prompt=prompts['system_prompt']\n",
    ")\n",
    "\n",
    "print(note)"
   ]
  },
  {
   "cell_type": "markdown",
   "id": "3644ac22",
   "metadata": {},
   "source": [
    "Entity Marking with EDA"
   ]
  },
  {
   "cell_type": "code",
   "execution_count": null,
   "id": "c6fabb0e",
   "metadata": {},
   "outputs": [],
   "source": [
    "# Combined EDA and Entity Marking\n",
    "enhanced_prompt = enhance_prompt_with_stats(prompt, stats)\n",
    "\n",
    "prompts = add_relation_markup_instructions(\n",
    "    prompt=enhanced_prompt,\n",
    "    entity_type=\"medication\",\n",
    "    relation_name=\"interacts with\"\n",
    ")\n",
    "\n",
    "note = generate_note(\n",
    "    prompt=prompts['user_prompt'],\n",
    "    system_prompt=prompts['system_prompt']\n",
    ")\n",
    "print(note)"
   ]
  },
  {
   "cell_type": "markdown",
   "id": "cbf8ced6",
   "metadata": {},
   "source": [
    "Entity-Date Relations Example"
   ]
  },
  {
   "cell_type": "code",
   "execution_count": null,
   "id": "0798c6e5",
   "metadata": {},
   "outputs": [],
   "source": [
    "# Entity-Date Relations Example\n",
    "prompt = \"\"\"Generate a clinical note about a patient's medical history.\n",
    "Include diagnoses and procedures with their specific dates.\"\"\"\n",
    "\n",
    "prompts = add_relation_markup_instructions(\n",
    "    prompt=prompt,\n",
    "    entity_type=[\"medical event\", \"date\"], \n",
    "    relation_name=\"occurred on\"\n",
    ")\n",
    "\n",
    "note = generate_note(\n",
    "    prompt=prompts['user_prompt'],\n",
    "    system_prompt=prompts['system_prompt']\n",
    ")\n",
    "print(note)"
   ]
  }
 ],
 "metadata": {
  "kernelspec": {
   "display_name": "Python 3",
   "language": "python",
   "name": "python3"
  },
  "language_info": {
   "codemirror_mode": {
    "name": "ipython",
    "version": 3
   },
   "file_extension": ".py",
   "mimetype": "text/x-python",
   "name": "python",
   "nbconvert_exporter": "python",
   "pygments_lexer": "ipython3",
   "version": "3.9.8"
  }
 },
 "nbformat": 4,
 "nbformat_minor": 5
}
